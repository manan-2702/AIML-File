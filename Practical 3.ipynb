{
 "cells": [
  {
   "cell_type": "markdown",
   "id": "887fa829",
   "metadata": {},
   "source": [
    "# Practical-3\n",
    "### AIM: Write a program to solve a given cryptarthmetic problem"
   ]
  },
  {
   "cell_type": "code",
   "execution_count": 1,
   "id": "150ba6da",
   "metadata": {},
   "outputs": [],
   "source": [
    "import itertools"
   ]
  },
  {
   "cell_type": "code",
   "execution_count": 2,
   "id": "989f9e9f",
   "metadata": {},
   "outputs": [],
   "source": [
    "def get_value(word, substitution):\n",
    "    s = 0\n",
    "    factor = 1\n",
    "    for letter in reversed(word):\n",
    "        s += factor * substitution[letter]\n",
    "        factor *= 10\n",
    "    return s"
   ]
  },
  {
   "cell_type": "code",
   "execution_count": 3,
   "id": "4708886e",
   "metadata": {},
   "outputs": [],
   "source": [
    "def solve2(equation):\n",
    "    left, right = equation.lower().replace(' ', '').split('=')\n",
    "    left = left.split('+')\n",
    "    letters = set(right)\n",
    "    for word in left:\n",
    "        for letter in word:\n",
    "            letters.add(letter)\n",
    "    letters = list(letters)\n",
    "    digits = range(10)\n",
    "    for perm in itertools.permutations(digits, len(letters)):\n",
    "        sol = dict(zip(letters, perm))\n",
    "\n",
    "        if sum(get_value(word, sol) for word in left) == get_value(right, sol):\n",
    "            print(' + '.join(str(get_value(word, sol)) for word in left) + \" = {} (mapping: {})\".format(get_value(right, sol), sol))"
   ]
  },
  {
   "cell_type": "code",
   "execution_count": 4,
   "id": "e72eaabb",
   "metadata": {},
   "outputs": [
    {
     "name": "stdout",
     "output_type": "stream",
     "text": [
      "7316 + 823 = 8139 (mapping: {'m': 0, 'n': 1, 'e': 3, 'y': 9, 's': 7, 'd': 6, 'o': 8, 'r': 2})\n",
      "6419 + 724 = 7143 (mapping: {'m': 0, 'n': 1, 'e': 4, 'y': 3, 's': 6, 'd': 9, 'o': 7, 'r': 2})\n",
      "6415 + 734 = 7149 (mapping: {'m': 0, 'n': 1, 'e': 4, 'y': 9, 's': 6, 'd': 5, 'o': 7, 'r': 3})\n",
      "3719 + 457 = 4176 (mapping: {'m': 0, 'n': 1, 'e': 7, 'y': 6, 's': 3, 'd': 9, 'o': 4, 'r': 5})\n",
      "3712 + 467 = 4179 (mapping: {'m': 0, 'n': 1, 'e': 7, 'y': 9, 's': 3, 'd': 2, 'o': 4, 'r': 6})\n",
      "2817 + 368 = 3185 (mapping: {'m': 0, 'n': 1, 'e': 8, 'y': 5, 's': 2, 'd': 7, 'o': 3, 'r': 6})\n",
      "2819 + 368 = 3187 (mapping: {'m': 0, 'n': 1, 'e': 8, 'y': 7, 's': 2, 'd': 9, 'o': 3, 'r': 6})\n",
      "8324 + 913 = 9237 (mapping: {'m': 0, 'n': 2, 'e': 3, 'y': 7, 's': 8, 'd': 4, 'o': 9, 'r': 1})\n",
      "7429 + 814 = 8243 (mapping: {'m': 0, 'n': 2, 'e': 4, 'y': 3, 's': 7, 'd': 9, 'o': 8, 'r': 1})\n",
      "6524 + 735 = 7259 (mapping: {'m': 0, 'n': 2, 'e': 5, 'y': 9, 's': 6, 'd': 4, 'o': 7, 'r': 3})\n",
      "3829 + 458 = 4287 (mapping: {'m': 0, 'n': 2, 'e': 8, 'y': 7, 's': 3, 'd': 9, 'o': 4, 'r': 5})\n",
      "3821 + 468 = 4289 (mapping: {'m': 0, 'n': 2, 'e': 8, 'y': 9, 's': 3, 'd': 1, 'o': 4, 'r': 6})\n",
      "8432 + 914 = 9346 (mapping: {'m': 0, 'n': 3, 'e': 4, 'y': 6, 's': 8, 'd': 2, 'o': 9, 'r': 1})\n",
      "7539 + 815 = 8354 (mapping: {'m': 0, 'n': 3, 'e': 5, 'y': 4, 's': 7, 'd': 9, 'o': 8, 'r': 1})\n",
      "7531 + 825 = 8356 (mapping: {'m': 0, 'n': 3, 'e': 5, 'y': 6, 's': 7, 'd': 1, 'o': 8, 'r': 2})\n",
      "7534 + 825 = 8359 (mapping: {'m': 0, 'n': 3, 'e': 5, 'y': 9, 's': 7, 'd': 4, 'o': 8, 'r': 2})\n",
      "5731 + 647 = 6378 (mapping: {'m': 0, 'n': 3, 'e': 7, 'y': 8, 's': 5, 'd': 1, 'o': 6, 'r': 4})\n",
      "5732 + 647 = 6379 (mapping: {'m': 0, 'n': 3, 'e': 7, 'y': 9, 's': 5, 'd': 2, 'o': 6, 'r': 4})\n",
      "8542 + 915 = 9457 (mapping: {'m': 0, 'n': 4, 'e': 5, 'y': 7, 's': 8, 'd': 2, 'o': 9, 'r': 1})\n",
      "7649 + 816 = 8465 (mapping: {'m': 0, 'n': 4, 'e': 6, 'y': 5, 's': 7, 'd': 9, 'o': 8, 'r': 1})\n",
      "7643 + 826 = 8469 (mapping: {'m': 0, 'n': 4, 'e': 6, 'y': 9, 's': 7, 'd': 3, 'o': 8, 'r': 2})\n",
      "5849 + 638 = 6487 (mapping: {'m': 0, 'n': 4, 'e': 8, 'y': 7, 's': 5, 'd': 9, 'o': 6, 'r': 3})\n",
      "6853 + 728 = 7581 (mapping: {'m': 0, 'n': 5, 'e': 8, 'y': 1, 's': 6, 'd': 3, 'o': 7, 'r': 2})\n",
      "6851 + 738 = 7589 (mapping: {'m': 0, 'n': 5, 'e': 8, 'y': 9, 's': 6, 'd': 1, 'o': 7, 'r': 3})\n",
      "9567 + 1085 = 10652 (mapping: {'m': 1, 'n': 6, 'e': 5, 'y': 2, 's': 9, 'd': 7, 'o': 0, 'r': 8})\n"
     ]
    }
   ],
   "source": [
    "if __name__ == '__main__':\n",
    "    solve2('SEND + MORE = MONEY')"
   ]
  },
  {
   "cell_type": "code",
   "execution_count": null,
   "id": "f998090c",
   "metadata": {},
   "outputs": [],
   "source": []
  }
 ],
 "metadata": {
  "kernelspec": {
   "display_name": "Python 3 (ipykernel)",
   "language": "python",
   "name": "python3"
  },
  "language_info": {
   "codemirror_mode": {
    "name": "ipython",
    "version": 3
   },
   "file_extension": ".py",
   "mimetype": "text/x-python",
   "name": "python",
   "nbconvert_exporter": "python",
   "pygments_lexer": "ipython3",
   "version": "3.9.12"
  }
 },
 "nbformat": 4,
 "nbformat_minor": 5
}
